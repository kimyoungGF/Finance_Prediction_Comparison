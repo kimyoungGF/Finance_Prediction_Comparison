{
 "cells": [
  {
   "cell_type": "code",
   "execution_count": 1,
   "id": "f34816c4",
   "metadata": {},
   "outputs": [],
   "source": [
    "import pandas as pd\n",
    "import numpy as np\n",
    "import time\n",
    "import urllib.request\n",
    "import os\n",
    "import pickle\n",
    "from os import path"
   ]
  },
  {
   "cell_type": "code",
   "execution_count": null,
   "id": "50e004ad",
   "metadata": {},
   "outputs": [],
   "source": [
    "with open(\"./멀티캠퍼스DF.pkl\",\"br\") as f:\n",
    "    mcdf = pickle.load(f)"
   ]
  },
  {
   "cell_type": "code",
   "execution_count": null,
   "id": "9bcba397",
   "metadata": {},
   "outputs": [],
   "source": [
    "mcdf['일자']=pd.to_numeric(mcdf['일자'])"
   ]
  },
  {
   "cell_type": "code",
   "execution_count": null,
   "id": "18fe4bc8",
   "metadata": {},
   "outputs": [],
   "source": [
    "mcdf=mcdf.loc[mcdf['일자']>20211230]\n",
    "mcdf=mcdf.loc[mcdf['일자']<20230101]\n",
    "mcdf"
   ]
  },
  {
   "cell_type": "code",
   "execution_count": null,
   "id": "d85db043",
   "metadata": {},
   "outputs": [],
   "source": [
    "mcdf=mcdf.sort_values(by=['일자'])\n",
    "mcdf"
   ]
  },
  {
   "cell_type": "code",
   "execution_count": null,
   "id": "d3764cd6",
   "metadata": {},
   "outputs": [],
   "source": [
    "mcdf['글자수']=mcdf['본문'].str.count('')-1\n",
    "mcdf"
   ]
  },
  {
   "cell_type": "code",
   "execution_count": null,
   "id": "ae1c71b0",
   "metadata": {},
   "outputs": [],
   "source": [
    "mcdf=mcdf.loc[mcdf['글자수']>2]\n",
    "mcdf"
   ]
  },
  {
   "cell_type": "code",
   "execution_count": null,
   "id": "28c72545",
   "metadata": {},
   "outputs": [],
   "source": [
    "mcdf=mcdf.loc[mcdf['글자수']<1000]\n",
    "mcdf"
   ]
  },
  {
   "cell_type": "code",
   "execution_count": null,
   "id": "e7a59556",
   "metadata": {},
   "outputs": [],
   "source": [
    "newsdf=(mcdf.loc[(mcdf['일자']==20220103)])[['본문']]\n",
    "newsdf"
   ]
  },
  {
   "cell_type": "code",
   "execution_count": null,
   "id": "1f4528f3",
   "metadata": {},
   "outputs": [],
   "source": [
    "newslist=newsdf['본문'].values.tolist()\n",
    "newslist"
   ]
  },
  {
   "cell_type": "code",
   "execution_count": null,
   "id": "c092b28e",
   "metadata": {},
   "outputs": [],
   "source": []
  },
  {
   "cell_type": "code",
   "execution_count": 2,
   "id": "bb0296a9",
   "metadata": {},
   "outputs": [
    {
     "name": "stderr",
     "output_type": "stream",
     "text": [
      "C:\\ProgramData\\Anaconda3\\lib\\site-packages\\scipy\\__init__.py:146: UserWarning: A NumPy version >=1.16.5 and <1.23.0 is required for this version of SciPy (detected version 1.23.0\n",
      "  warnings.warn(f\"A NumPy version >={np_minversion} and <{np_maxversion}\"\n",
      "WARNING[XFORMERS]: xFormers can't load C++/CUDA extensions. xFormers was built for:\n",
      "    PyTorch 2.0.1+cu118 with CUDA 1108 (you have 2.0.1+cpu)\n",
      "    Python  3.9.13 (you have 3.9.0)\n",
      "  Please reinstall xformers (see https://github.com/facebookresearch/xformers#installing-xformers)\n",
      "  Memory-efficient attention, SwiGLU, sparse and more won't be available.\n",
      "  Set XFORMERS_MORE_DETAILS=1 for more details\n"
     ]
    }
   ],
   "source": [
    "from transformers import AutoTokenizer, AutoModelForSequenceClassification\n",
    "from transformers import pipeline\n",
    "\n",
    "tokenizer = AutoTokenizer.from_pretrained('snunlp/KR-FinBert-SC')\n",
    "model=AutoModelForSequenceClassification.from_pretrained('snunlp/KR-FinBert-SC')\n",
    "\n",
    "senti_classifier = pipeline(task='text-classification',model=model,tokenizer=tokenizer)"
   ]
  },
  {
   "cell_type": "code",
   "execution_count": 3,
   "id": "5283ffda",
   "metadata": {},
   "outputs": [],
   "source": [
    "def allsenticlassifier(allnewsdf,day):\n",
    "    newsdf=(allnewsdf.loc[(allnewsdf['일자']==day)])[['본문']]\n",
    "    newslist=newsdf['본문'].values.tolist()\n",
    "    x = newslist\n",
    "    y = [x['label'] for x in senti_classifier(x)]\n",
    "    \n",
    "    neutralC = y.count('neutral')\n",
    "    negativeC = y.count('negative')\n",
    "    positiveC = y.count('positive')\n",
    "    \n",
    "    addC=neutralC+negativeC+positiveC\n",
    "    \n",
    "    neutralP=neutralC/addC\n",
    "    negativeP=negativeC/addC\n",
    "    positiveP=positiveC/addC\n",
    "    \n",
    "    return neutralP,negativeP,positiveP"
   ]
  },
  {
   "cell_type": "code",
   "execution_count": null,
   "id": "0423c26b",
   "metadata": {},
   "outputs": [],
   "source": [
    "neutralPs=[]\n",
    "negativePs=[]\n",
    "positivePs=[]"
   ]
  },
  {
   "cell_type": "code",
   "execution_count": null,
   "id": "e16fb0ab",
   "metadata": {},
   "outputs": [],
   "source": [
    "mcdf_day_listint"
   ]
  },
  {
   "cell_type": "code",
   "execution_count": null,
   "id": "dd0fcdd4",
   "metadata": {},
   "outputs": [],
   "source": [
    "mcdf_day_list=mcdf['일자'].to_list()\n",
    "mcdf_day_setint=set(map(int,mcdf_day_list))\n",
    "mcdf_day_listint = list(mcdf_day_setint)\n",
    "mcdf_day_listint.sort()"
   ]
  },
  {
   "cell_type": "code",
   "execution_count": null,
   "id": "cf227892",
   "metadata": {},
   "outputs": [],
   "source": [
    "for day in mcdf_day_listint:\n",
    "    neutralP,negativeP,positiveP=allsenticlassifier(mcdf,day)\n",
    "    neutralPs.append(neutralP)\n",
    "    negativePs.append(negativeP)\n",
    "    positivePs.append(positiveP)\n",
    "    print(day)"
   ]
  },
  {
   "cell_type": "code",
   "execution_count": null,
   "id": "683da859",
   "metadata": {},
   "outputs": [],
   "source": []
  },
  {
   "cell_type": "code",
   "execution_count": null,
   "id": "67c9018f",
   "metadata": {},
   "outputs": [],
   "source": []
  },
  {
   "cell_type": "code",
   "execution_count": null,
   "id": "92f88e61",
   "metadata": {},
   "outputs": [],
   "source": [
    "x = newslist\n",
    "y = [x['label'] for x in senti_classifier(x)]"
   ]
  },
  {
   "cell_type": "code",
   "execution_count": null,
   "id": "23152a0c",
   "metadata": {},
   "outputs": [],
   "source": []
  },
  {
   "cell_type": "code",
   "execution_count": null,
   "id": "244c5ae5",
   "metadata": {},
   "outputs": [],
   "source": []
  },
  {
   "cell_type": "code",
   "execution_count": null,
   "id": "5a661f55",
   "metadata": {},
   "outputs": [],
   "source": []
  },
  {
   "cell_type": "code",
   "execution_count": null,
   "id": "06e5fb6a",
   "metadata": {},
   "outputs": [],
   "source": []
  },
  {
   "cell_type": "code",
   "execution_count": null,
   "id": "57f147bb",
   "metadata": {},
   "outputs": [],
   "source": []
  },
  {
   "cell_type": "code",
   "execution_count": null,
   "id": "efdf2951",
   "metadata": {},
   "outputs": [],
   "source": [
    "len(mcdf_day_listint)"
   ]
  },
  {
   "cell_type": "code",
   "execution_count": null,
   "id": "7b446768",
   "metadata": {},
   "outputs": [],
   "source": [
    "#저장\n",
    "\n",
    "\n",
    "with open(\"./mcneutralPs.pickle\",\"bw\") as f:\n",
    "    pickle.dump(neutralPs, f)\n",
    "    \n",
    "with open(\"./mcnegativePs.pickle\",\"bw\") as f:\n",
    "    pickle.dump(negativePs, f)\n",
    "\n",
    "with open(\"./mcpositivePs.pickle\",\"bw\") as f:\n",
    "    pickle.dump(positivePs, f)"
   ]
  },
  {
   "cell_type": "code",
   "execution_count": null,
   "id": "d386f6a5",
   "metadata": {},
   "outputs": [],
   "source": []
  },
  {
   "cell_type": "code",
   "execution_count": null,
   "id": "10976c18",
   "metadata": {},
   "outputs": [],
   "source": []
  },
  {
   "cell_type": "code",
   "execution_count": null,
   "id": "e3428e76",
   "metadata": {},
   "outputs": [],
   "source": []
  },
  {
   "cell_type": "code",
   "execution_count": null,
   "id": "825692e0",
   "metadata": {},
   "outputs": [],
   "source": []
  }
 ],
 "metadata": {
  "kernelspec": {
   "display_name": "Python 3 (ipykernel)",
   "language": "python",
   "name": "python3"
  },
  "language_info": {
   "codemirror_mode": {
    "name": "ipython",
    "version": 3
   },
   "file_extension": ".py",
   "mimetype": "text/x-python",
   "name": "python",
   "nbconvert_exporter": "python",
   "pygments_lexer": "ipython3",
   "version": "3.9.0"
  }
 },
 "nbformat": 4,
 "nbformat_minor": 5
}
