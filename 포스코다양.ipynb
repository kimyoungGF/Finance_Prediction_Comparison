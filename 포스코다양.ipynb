{
 "cells": [
  {
   "cell_type": "code",
   "execution_count": 1,
   "id": "5f4421f4",
   "metadata": {},
   "outputs": [],
   "source": [
    "import pandas as pd\n",
    "import numpy as np\n",
    "import FinanceDataReader as fdr\n",
    "import matplotlib.pyplot as plt\n",
    "\n",
    "from tensorflow.keras import Sequential\n",
    "from tensorflow.keras.layers import Dense, LSTM, Dropout, Bidirectional"
   ]
  },
  {
   "cell_type": "code",
   "execution_count": 24,
   "id": "298e8e08",
   "metadata": {},
   "outputs": [],
   "source": [
    "def MinMaxScaler(data):\n",
    "    numerator = data - np.min(data, 0)\n",
    "    denominator = np.max(data, 0) - np.min(data, 0)\n",
    "    return numerator / (denominator + 1e-7)"
   ]
  },
  {
   "cell_type": "code",
   "execution_count": 58,
   "id": "4946b687",
   "metadata": {},
   "outputs": [
    {
     "name": "stdout",
     "output_type": "stream",
     "text": [
      "Model: \"sequential_3\"\n",
      "_________________________________________________________________\n",
      " Layer (type)                Output Shape              Param #   \n",
      "=================================================================\n",
      " bidirectional_6 (Bidirectio  (None, 10, 128)          35328     \n",
      " nal)                                                            \n",
      "                                                                 \n",
      " dropout_6 (Dropout)         (None, 10, 128)           0         \n",
      "                                                                 \n",
      " bidirectional_7 (Bidirectio  (None, 128)              98816     \n",
      " nal)                                                            \n",
      "                                                                 \n",
      " dropout_7 (Dropout)         (None, 128)               0         \n",
      "                                                                 \n",
      " dense_3 (Dense)             (None, 1)                 129       \n",
      "                                                                 \n",
      "=================================================================\n",
      "Total params: 134,273\n",
      "Trainable params: 134,273\n",
      "Non-trainable params: 0\n",
      "_________________________________________________________________\n"
     ]
    }
   ],
   "source": [
    "#포스코\n",
    "\n",
    "def MinMaxScaler(data):\n",
    "    numerator = data - np.min(data, 0)\n",
    "    denominator = np.max(data, 0) - np.min(data, 0)\n",
    "    return numerator / (denominator + 1e-7)\n",
    "\n",
    "\n",
    "df = fdr.DataReader('005490', '2018-01-01', '2023-01-01')\n",
    "dfx = df[['Open','High','Low','Volume', 'Close']]\n",
    "dfx = MinMaxScaler(dfx)\n",
    "dfy = dfx[['Close']]\n",
    "dfx = dfx[['Open','High','Low','Volume']]\n",
    "dfx=dfx.reset_index()\n",
    "dfx=dfx.set_index(keys='Date')\n",
    "\n",
    "\n",
    "X = dfx.values.tolist()\n",
    "y = dfy.values.tolist()\n",
    "\n",
    "#며칠데이터로 예측\n",
    "window_size = 10\n",
    "\n",
    "data_X = []\n",
    "data_y = []\n",
    "for i in range(len(y) - window_size):\n",
    "    _X = X[i : i + window_size] \n",
    "    _y = y[i + window_size]     \n",
    "    data_X.append(_X)\n",
    "    data_y.append(_y)\n",
    "    \n",
    "    \n",
    "n=len(data_y)\n",
    "\n",
    "train_X = np.array(data_X[0:int(n*0.7)])\n",
    "train_y = np.array(data_y[0:int(n*0.7)])\n",
    "\n",
    "val_X = np.array(data_X[int(n*0.7):int(n*0.9)])\n",
    "val_y = np.array(data_y[int(n*0.7):int(n*0.9)])\n",
    "\n",
    "test_X = np.array(data_X[int(n*0.9):])\n",
    "test_y = np.array(data_y[int(n*0.9):])\n",
    "\n",
    "validation_data = (val_X,val_y)\n",
    "\n",
    "model2 = Sequential()\n",
    "\n",
    "\n",
    "forward_layer = LSTM(64, return_sequences=True)\n",
    "backward_layer = LSTM(64, activation='relu', return_sequences=True,\n",
    "                      go_backwards=True)\n",
    "\n",
    "model2.add(Bidirectional(forward_layer, backward_layer=backward_layer,\n",
    "                        input_shape=(10, 4)))\n",
    "\n",
    "model2.add(Dropout(0.2))\n",
    "\n",
    "model2.add(Bidirectional(LSTM(64)))\n",
    "\n",
    "model2.add(Dropout(0.2))\n",
    "\n",
    "model2.add(Dense(units=1))\n",
    "\n",
    "\n",
    "model2.summary()"
   ]
  },
  {
   "cell_type": "code",
   "execution_count": 59,
   "id": "f76eece5",
   "metadata": {
    "scrolled": false
   },
   "outputs": [
    {
     "name": "stdout",
     "output_type": "stream",
     "text": [
      "Epoch 1/100\n",
      "29/29 [==============================] - 8s 62ms/step - loss: 0.0280 - val_loss: 0.0047\n",
      "Epoch 2/100\n",
      "29/29 [==============================] - 0s 17ms/step - loss: 0.0038 - val_loss: 0.0022\n",
      "Epoch 3/100\n",
      "29/29 [==============================] - 1s 17ms/step - loss: 0.0033 - val_loss: 0.0024\n",
      "Epoch 4/100\n",
      "29/29 [==============================] - 0s 17ms/step - loss: 0.0030 - val_loss: 0.0021\n",
      "Epoch 5/100\n",
      "29/29 [==============================] - 0s 17ms/step - loss: 0.0028 - val_loss: 0.0022\n",
      "Epoch 6/100\n",
      "29/29 [==============================] - 1s 18ms/step - loss: 0.0029 - val_loss: 0.0021\n",
      "Epoch 7/100\n",
      "29/29 [==============================] - 1s 17ms/step - loss: 0.0025 - val_loss: 0.0028\n",
      "Epoch 8/100\n",
      "29/29 [==============================] - 1s 17ms/step - loss: 0.0027 - val_loss: 0.0022\n",
      "Epoch 9/100\n",
      "29/29 [==============================] - 1s 20ms/step - loss: 0.0028 - val_loss: 0.0020\n",
      "Epoch 10/100\n",
      "29/29 [==============================] - 1s 18ms/step - loss: 0.0026 - val_loss: 0.0021\n",
      "Epoch 11/100\n",
      "29/29 [==============================] - 0s 16ms/step - loss: 0.0029 - val_loss: 0.0022\n",
      "Epoch 12/100\n",
      "29/29 [==============================] - 0s 17ms/step - loss: 0.0022 - val_loss: 0.0018\n",
      "Epoch 13/100\n",
      "29/29 [==============================] - 0s 16ms/step - loss: 0.0025 - val_loss: 0.0027\n",
      "Epoch 14/100\n",
      "29/29 [==============================] - 1s 20ms/step - loss: 0.0027 - val_loss: 0.0037\n",
      "Epoch 15/100\n",
      "29/29 [==============================] - 0s 16ms/step - loss: 0.0026 - val_loss: 0.0019\n",
      "Epoch 16/100\n",
      "29/29 [==============================] - 1s 19ms/step - loss: 0.0020 - val_loss: 0.0018\n",
      "Epoch 17/100\n",
      "29/29 [==============================] - 0s 17ms/step - loss: 0.0021 - val_loss: 0.0021\n",
      "Epoch 18/100\n",
      "29/29 [==============================] - 1s 17ms/step - loss: 0.0021 - val_loss: 0.0016\n",
      "Epoch 19/100\n",
      "29/29 [==============================] - 0s 17ms/step - loss: 0.0022 - val_loss: 0.0017\n",
      "Epoch 20/100\n",
      "29/29 [==============================] - 0s 17ms/step - loss: 0.0021 - val_loss: 0.0016\n",
      "Epoch 21/100\n",
      "29/29 [==============================] - 0s 16ms/step - loss: 0.0019 - val_loss: 0.0016\n",
      "Epoch 22/100\n",
      "29/29 [==============================] - 1s 20ms/step - loss: 0.0021 - val_loss: 0.0040\n",
      "Epoch 23/100\n",
      "29/29 [==============================] - 0s 17ms/step - loss: 0.0028 - val_loss: 0.0015\n",
      "Epoch 24/100\n",
      "29/29 [==============================] - 1s 21ms/step - loss: 0.0019 - val_loss: 0.0014\n",
      "Epoch 25/100\n",
      "29/29 [==============================] - 0s 17ms/step - loss: 0.0019 - val_loss: 0.0014\n",
      "Epoch 26/100\n",
      "29/29 [==============================] - 1s 20ms/step - loss: 0.0018 - val_loss: 0.0022\n",
      "Epoch 27/100\n",
      "29/29 [==============================] - 1s 19ms/step - loss: 0.0019 - val_loss: 0.0013\n",
      "Epoch 28/100\n",
      "29/29 [==============================] - 0s 17ms/step - loss: 0.0018 - val_loss: 0.0013\n",
      "Epoch 29/100\n",
      "29/29 [==============================] - 0s 16ms/step - loss: 0.0018 - val_loss: 0.0013\n",
      "Epoch 30/100\n",
      "29/29 [==============================] - 0s 17ms/step - loss: 0.0017 - val_loss: 0.0013\n",
      "Epoch 31/100\n",
      "29/29 [==============================] - 0s 17ms/step - loss: 0.0017 - val_loss: 0.0012\n",
      "Epoch 32/100\n",
      "29/29 [==============================] - 0s 17ms/step - loss: 0.0017 - val_loss: 0.0013\n",
      "Epoch 33/100\n",
      "29/29 [==============================] - 0s 16ms/step - loss: 0.0018 - val_loss: 0.0046\n",
      "Epoch 34/100\n",
      "29/29 [==============================] - 0s 16ms/step - loss: 0.0019 - val_loss: 0.0022\n",
      "Epoch 35/100\n",
      "29/29 [==============================] - 0s 17ms/step - loss: 0.0015 - val_loss: 0.0012\n",
      "Epoch 36/100\n",
      "29/29 [==============================] - 0s 17ms/step - loss: 0.0017 - val_loss: 0.0012\n",
      "Epoch 37/100\n",
      "29/29 [==============================] - 1s 18ms/step - loss: 0.0016 - val_loss: 0.0012\n",
      "Epoch 38/100\n",
      "29/29 [==============================] - 1s 21ms/step - loss: 0.0017 - val_loss: 0.0016\n",
      "Epoch 39/100\n",
      "29/29 [==============================] - 1s 17ms/step - loss: 0.0018 - val_loss: 0.0012\n",
      "Epoch 40/100\n",
      "29/29 [==============================] - 1s 20ms/step - loss: 0.0016 - val_loss: 0.0010\n",
      "Epoch 41/100\n",
      "29/29 [==============================] - 0s 17ms/step - loss: 0.0015 - val_loss: 0.0011\n",
      "Epoch 42/100\n",
      "29/29 [==============================] - 1s 19ms/step - loss: 0.0015 - val_loss: 0.0014\n",
      "Epoch 43/100\n",
      "29/29 [==============================] - 1s 19ms/step - loss: 0.0014 - val_loss: 0.0012\n",
      "Epoch 44/100\n",
      "29/29 [==============================] - 1s 18ms/step - loss: 0.0017 - val_loss: 0.0011\n",
      "Epoch 45/100\n",
      "29/29 [==============================] - 0s 17ms/step - loss: 0.0016 - val_loss: 0.0010\n",
      "Epoch 46/100\n",
      "29/29 [==============================] - 0s 17ms/step - loss: 0.0016 - val_loss: 0.0010\n",
      "Epoch 47/100\n",
      "29/29 [==============================] - 1s 18ms/step - loss: 0.0015 - val_loss: 0.0012\n",
      "Epoch 48/100\n",
      "29/29 [==============================] - 1s 19ms/step - loss: 0.0017 - val_loss: 9.7919e-04\n",
      "Epoch 49/100\n",
      "29/29 [==============================] - 1s 21ms/step - loss: 0.0014 - val_loss: 0.0014\n",
      "Epoch 50/100\n",
      "29/29 [==============================] - 0s 16ms/step - loss: 0.0015 - val_loss: 0.0018\n",
      "Epoch 51/100\n",
      "29/29 [==============================] - 0s 17ms/step - loss: 0.0016 - val_loss: 0.0012\n",
      "Epoch 52/100\n",
      "29/29 [==============================] - 0s 17ms/step - loss: 0.0014 - val_loss: 9.3962e-04\n",
      "Epoch 53/100\n",
      "29/29 [==============================] - 1s 17ms/step - loss: 0.0014 - val_loss: 0.0020\n",
      "Epoch 54/100\n",
      "29/29 [==============================] - 0s 16ms/step - loss: 0.0018 - val_loss: 0.0011\n",
      "Epoch 55/100\n",
      "29/29 [==============================] - 1s 22ms/step - loss: 0.0016 - val_loss: 0.0012\n",
      "Epoch 56/100\n",
      "29/29 [==============================] - 1s 18ms/step - loss: 0.0014 - val_loss: 9.9341e-04\n",
      "Epoch 57/100\n",
      "29/29 [==============================] - 0s 17ms/step - loss: 0.0012 - val_loss: 9.0504e-04\n",
      "Epoch 58/100\n",
      "29/29 [==============================] - 1s 19ms/step - loss: 0.0014 - val_loss: 0.0013\n",
      "Epoch 59/100\n",
      "29/29 [==============================] - 1s 18ms/step - loss: 0.0014 - val_loss: 0.0016\n",
      "Epoch 60/100\n",
      "29/29 [==============================] - 0s 17ms/step - loss: 0.0014 - val_loss: 0.0013\n",
      "Epoch 61/100\n",
      "29/29 [==============================] - 0s 17ms/step - loss: 0.0014 - val_loss: 9.6838e-04\n",
      "Epoch 62/100\n",
      "29/29 [==============================] - 1s 17ms/step - loss: 0.0012 - val_loss: 0.0012\n",
      "Epoch 63/100\n",
      "29/29 [==============================] - 0s 16ms/step - loss: 0.0012 - val_loss: 0.0010\n",
      "Epoch 64/100\n",
      "29/29 [==============================] - 1s 18ms/step - loss: 0.0014 - val_loss: 8.9685e-04\n",
      "Epoch 65/100\n",
      "29/29 [==============================] - 0s 17ms/step - loss: 0.0014 - val_loss: 9.3229e-04\n",
      "Epoch 66/100\n",
      "29/29 [==============================] - 1s 23ms/step - loss: 0.0014 - val_loss: 0.0011\n",
      "Epoch 67/100\n",
      "29/29 [==============================] - 0s 16ms/step - loss: 0.0013 - val_loss: 8.8043e-04\n",
      "Epoch 68/100\n",
      "29/29 [==============================] - 1s 18ms/step - loss: 0.0013 - val_loss: 8.8165e-04\n",
      "Epoch 69/100\n",
      "29/29 [==============================] - 1s 21ms/step - loss: 0.0014 - val_loss: 8.6126e-04\n",
      "Epoch 70/100\n",
      "29/29 [==============================] - 1s 18ms/step - loss: 0.0015 - val_loss: 9.8481e-04\n",
      "Epoch 71/100\n",
      "29/29 [==============================] - 1s 19ms/step - loss: 0.0013 - val_loss: 0.0013\n",
      "Epoch 72/100\n",
      "29/29 [==============================] - 1s 17ms/step - loss: 0.0014 - val_loss: 9.1453e-04\n",
      "Epoch 73/100\n",
      "29/29 [==============================] - 0s 17ms/step - loss: 0.0013 - val_loss: 0.0023\n",
      "Epoch 74/100\n",
      "29/29 [==============================] - 0s 17ms/step - loss: 0.0020 - val_loss: 0.0011\n",
      "Epoch 75/100\n",
      "29/29 [==============================] - 0s 16ms/step - loss: 0.0014 - val_loss: 0.0012\n",
      "Epoch 76/100\n",
      "29/29 [==============================] - 1s 18ms/step - loss: 0.0012 - val_loss: 9.0279e-04\n",
      "Epoch 77/100\n",
      "29/29 [==============================] - 0s 17ms/step - loss: 0.0013 - val_loss: 0.0012\n",
      "Epoch 78/100\n",
      "29/29 [==============================] - 1s 19ms/step - loss: 0.0012 - val_loss: 0.0010\n",
      "Epoch 79/100\n",
      "29/29 [==============================] - 1s 18ms/step - loss: 0.0015 - val_loss: 9.1578e-04\n",
      "Epoch 80/100\n",
      "29/29 [==============================] - 0s 17ms/step - loss: 0.0014 - val_loss: 0.0010\n",
      "Epoch 81/100\n"
     ]
    },
    {
     "name": "stdout",
     "output_type": "stream",
     "text": [
      "29/29 [==============================] - 1s 17ms/step - loss: 0.0011 - val_loss: 8.8987e-04\n",
      "Epoch 82/100\n",
      "29/29 [==============================] - 0s 17ms/step - loss: 0.0013 - val_loss: 0.0019\n",
      "Epoch 83/100\n",
      "29/29 [==============================] - 1s 20ms/step - loss: 0.0014 - val_loss: 8.9232e-04\n",
      "Epoch 84/100\n",
      "29/29 [==============================] - 0s 17ms/step - loss: 0.0011 - val_loss: 0.0014\n",
      "Epoch 85/100\n",
      "29/29 [==============================] - 0s 17ms/step - loss: 0.0011 - val_loss: 8.4606e-04\n",
      "Epoch 86/100\n",
      "29/29 [==============================] - 0s 16ms/step - loss: 0.0013 - val_loss: 8.2614e-04\n",
      "Epoch 87/100\n",
      "29/29 [==============================] - 0s 17ms/step - loss: 0.0012 - val_loss: 8.4783e-04\n",
      "Epoch 88/100\n",
      "29/29 [==============================] - 0s 17ms/step - loss: 0.0011 - val_loss: 8.1629e-04\n",
      "Epoch 89/100\n",
      "29/29 [==============================] - 1s 17ms/step - loss: 0.0012 - val_loss: 8.2401e-04\n",
      "Epoch 90/100\n",
      "29/29 [==============================] - 0s 17ms/step - loss: 0.0012 - val_loss: 0.0010\n",
      "Epoch 91/100\n",
      "29/29 [==============================] - 0s 17ms/step - loss: 0.0012 - val_loss: 9.6456e-04\n",
      "Epoch 92/100\n",
      "29/29 [==============================] - 0s 16ms/step - loss: 0.0012 - val_loss: 0.0017\n",
      "Epoch 93/100\n",
      "29/29 [==============================] - 1s 18ms/step - loss: 0.0014 - val_loss: 0.0011\n",
      "Epoch 94/100\n",
      "29/29 [==============================] - 1s 19ms/step - loss: 0.0011 - val_loss: 7.7124e-04\n",
      "Epoch 95/100\n",
      "29/29 [==============================] - 0s 17ms/step - loss: 0.0011 - val_loss: 8.5733e-04\n",
      "Epoch 96/100\n",
      "29/29 [==============================] - 1s 18ms/step - loss: 0.0013 - val_loss: 0.0014\n",
      "Epoch 97/100\n",
      "29/29 [==============================] - 0s 16ms/step - loss: 0.0012 - val_loss: 0.0011\n",
      "Epoch 98/100\n",
      "29/29 [==============================] - 0s 16ms/step - loss: 0.0012 - val_loss: 9.6151e-04\n",
      "Epoch 99/100\n",
      "29/29 [==============================] - 1s 17ms/step - loss: 0.0011 - val_loss: 7.7118e-04\n",
      "Epoch 100/100\n",
      "29/29 [==============================] - 0s 17ms/step - loss: 0.0011 - val_loss: 8.5220e-04\n",
      "4/4 [==============================] - 1s 6ms/step\n"
     ]
    }
   ],
   "source": [
    "model2.compile(optimizer='adam', \n",
    "              loss='mean_squared_error')\n",
    "model2.fit(train_X, \n",
    "          train_y, \n",
    "          epochs=100, \n",
    "          batch_size=30,\n",
    "          validation_data=validation_data\n",
    "         )\n",
    "\n",
    "\n",
    "\n",
    "pred_y = model2.predict(test_X)"
   ]
  },
  {
   "cell_type": "code",
   "execution_count": null,
   "id": "ea4637ca",
   "metadata": {},
   "outputs": [],
   "source": []
  },
  {
   "cell_type": "code",
   "execution_count": 60,
   "id": "d968b3b5",
   "metadata": {},
   "outputs": [
    {
     "name": "stdout",
     "output_type": "stream",
     "text": [
      "4/4 [==============================] - 0s 5ms/step\n"
     ]
    },
    {
     "data": {
      "image/png": "[encoded data removed]",
      "text/plain": [
       "<Figure size 640x480 with 1 Axes>"
      ]
     },
     "metadata": {},
     "output_type": "display_data"
    }
   ],
   "source": [
    "pred_y = model2.predict(test_X)\n",
    "\n",
    "plt.figure()\n",
    "plt.plot(test_y, color='red', label='real SEC stock price')\n",
    "plt.plot(pred_y, color='blue', label='predicted SEC stock price')\n",
    "plt.title('SEC stock price prediction')\n",
    "plt.xlabel('time')\n",
    "plt.ylabel('stock price')\n",
    "plt.legend()\n",
    "plt.show()"
   ]
  },
  {
   "cell_type": "code",
   "execution_count": 61,
   "id": "3c39b612",
   "metadata": {},
   "outputs": [
    {
     "name": "stdout",
     "output_type": "stream",
     "text": [
      "RMSE : 0.022764856881301098\n",
      "R2 : 0.9346082565322082\n"
     ]
    }
   ],
   "source": [
    "#RMSE 구하기\n",
    "\n",
    "from sklearn.metrics import mean_squared_error\n",
    "\n",
    "def RMSE(test_y, y_predict):\n",
    "   return np.sqrt(mean_squared_error(test_y, y_predict))\n",
    "\n",
    "print(\"RMSE :\", RMSE(test_y, pred_y))\n",
    "\n",
    "# R2 구하기\n",
    "from sklearn.metrics import r2_score\n",
    "f2_y_predict = r2_score(test_y, pred_y)\n",
    "print(\"R2 :\", f2_y_predict)"
   ]
  },
  {
   "cell_type": "code",
   "execution_count": null,
   "id": "51972cdc",
   "metadata": {},
   "outputs": [],
   "source": []
  },
  {
   "cell_type": "code",
   "execution_count": null,
   "id": "2f1efadb",
   "metadata": {},
   "outputs": [],
   "source": []
  },
  {
   "cell_type": "code",
   "execution_count": null,
   "id": "66ac38e8",
   "metadata": {},
   "outputs": [],
   "source": []
  },
  {
   "cell_type": "code",
   "execution_count": null,
   "id": "7a833ae9",
   "metadata": {},
   "outputs": [],
   "source": []
  },
  {
   "cell_type": "code",
   "execution_count": null,
   "id": "b095ec33",
   "metadata": {},
   "outputs": [],
   "source": []
  },
  {
   "cell_type": "code",
   "execution_count": null,
   "id": "f5347988",
   "metadata": {},
   "outputs": [],
   "source": []
  },
  {
   "cell_type": "code",
   "execution_count": null,
   "id": "eb3ebfb6",
   "metadata": {},
   "outputs": [],
   "source": []
  },
  {
   "cell_type": "code",
   "execution_count": null,
   "id": "6b1cea83",
   "metadata": {},
   "outputs": [],
   "source": []
  },
  {
   "cell_type": "code",
   "execution_count": null,
   "id": "e5546e5e",
   "metadata": {},
   "outputs": [],
   "source": []
  },
  {
   "cell_type": "code",
   "execution_count": null,
   "id": "59a78203",
   "metadata": {},
   "outputs": [],
   "source": []
  },
  {
   "cell_type": "code",
   "execution_count": null,
   "id": "3650350f",
   "metadata": {},
   "outputs": [],
   "source": []
  },
  {
   "cell_type": "code",
   "execution_count": null,
   "id": "e81e05d5",
   "metadata": {},
   "outputs": [],
   "source": []
  },
  {
   "cell_type": "code",
   "execution_count": 29,
   "id": "bc180214",
   "metadata": {},
   "outputs": [],
   "source": [
    "df = fdr.DataReader('005490', '2018-01-01', '2023-09-07')\n",
    "dfx = df[['Open','High','Low','Volume', 'Close']]\n",
    "dfx = MinMaxScaler(dfx)\n",
    "dfy = dfx[['Close']]\n",
    "dfx = dfx[['Open','High','Low','Volume']]\n",
    "dfx=dfx.reset_index()\n",
    "dfx=dfx.set_index(keys='Date')\n",
    "\n",
    "\n",
    "X = dfx.values.tolist()\n",
    "y = dfy.values.tolist()\n",
    "\n",
    "#며칠데이터로 예측\n",
    "window_size = 10\n",
    "\n",
    "data_X = []\n",
    "data_y = []\n",
    "for i in range(len(y) - window_size):\n",
    "    _X = X[i : i + window_size] \n",
    "    _y = y[i + window_size]     \n",
    "    data_X.append(_X)\n",
    "    data_y.append(_y)\n",
    "    \n",
    "now_X = np.array(data_X)\n",
    "now_y = np.array(data_y)"
   ]
  },
  {
   "cell_type": "code",
   "execution_count": 30,
   "id": "125a818e",
   "metadata": {},
   "outputs": [
    {
     "data": {
      "text/plain": [
       "123"
      ]
     },
     "execution_count": 30,
     "metadata": {},
     "output_type": "execute_result"
    }
   ],
   "source": [
    "len(pred_y)"
   ]
  },
  {
   "cell_type": "code",
   "execution_count": 34,
   "id": "a925450c",
   "metadata": {},
   "outputs": [
    {
     "name": "stdout",
     "output_type": "stream",
     "text": [
      "4/4 [==============================] - 0s 5ms/step\n"
     ]
    },
    {
     "data": {
      "image/png": "[encoded data removed]",
      "text/plain": [
       "<Figure size 640x480 with 1 Axes>"
      ]
     },
     "metadata": {},
     "output_type": "display_data"
    }
   ],
   "source": [
    "pred_y = model2.predict(now_X[-100:])\n",
    "\n",
    "\n",
    "plt.figure()\n",
    "plt.plot(pred_y[-100:], color='red', label='real SEC stock price')\n",
    "plt.plot(now_y[-100:], color='blue', label='predicted SEC stock price')\n",
    "plt.title('SEC stock price prediction')\n",
    "plt.xlabel('time')\n",
    "plt.ylabel('stock price')\n",
    "plt.legend()\n",
    "plt.show()"
   ]
  },
  {
   "cell_type": "code",
   "execution_count": null,
   "id": "273c772c",
   "metadata": {},
   "outputs": [],
   "source": []
  },
  {
   "cell_type": "code",
   "execution_count": null,
   "id": "aec07de2",
   "metadata": {},
   "outputs": [],
   "source": []
  },
  {
   "cell_type": "code",
   "execution_count": 35,
   "id": "6ee0c58e",
   "metadata": {},
   "outputs": [
    {
     "data": {
      "text/plain": [
       "1393"
      ]
     },
     "execution_count": 35,
     "metadata": {},
     "output_type": "execute_result"
    }
   ],
   "source": [
    "len(now_y)"
   ]
  },
  {
   "cell_type": "code",
   "execution_count": 36,
   "id": "244c5e3f",
   "metadata": {
    "scrolled": true
   },
   "outputs": [
    {
     "ename": "NameError",
     "evalue": "name 'y_predict' is not defined",
     "output_type": "error",
     "traceback": [
      "\u001b[1;31m---------------------------------------------------------------------------\u001b[0m",
      "\u001b[1;31mNameError\u001b[0m                                 Traceback (most recent call last)",
      "Cell \u001b[1;32mIn[36], line 1\u001b[0m\n\u001b[1;32m----> 1\u001b[0m \u001b[38;5;28mlen\u001b[39m(\u001b[43my_predict\u001b[49m)\n",
      "\u001b[1;31mNameError\u001b[0m: name 'y_predict' is not defined"
     ]
    }
   ],
   "source": [
    "len(y_predict)"
   ]
  },
  {
   "cell_type": "code",
   "execution_count": 37,
   "id": "c57db0af",
   "metadata": {},
   "outputs": [
    {
     "name": "stdout",
     "output_type": "stream",
     "text": [
      "RMSE : 0.08905573219975906\n",
      "R2 : 0.7668051504160874\n"
     ]
    }
   ],
   "source": [
    "#RMSE 구하기\n",
    "\n",
    "from sklearn.metrics import mean_squared_error\n",
    "\n",
    "def RMSE(test_y, y_predict):\n",
    "   return np.sqrt(mean_squared_error(test_y, y_predict))\n",
    "print(\"RMSE :\", RMSE(now_y[-100:], pred_y[-100:]))\n",
    "\n",
    "# R2 구하기\n",
    "from sklearn.metrics import r2_score\n",
    "f2_y_predict = r2_score(now_y[-100:], pred_y[-100:])\n",
    "print(\"R2 :\", f2_y_predict)"
   ]
  },
  {
   "cell_type": "code",
   "execution_count": null,
   "id": "436acae2",
   "metadata": {},
   "outputs": [],
   "source": []
  },
  {
   "cell_type": "code",
   "execution_count": null,
   "id": "da235896",
   "metadata": {},
   "outputs": [],
   "source": [
    "now_pred_y = model2.predict(now_X)"
   ]
  },
  {
   "cell_type": "code",
   "execution_count": 64,
   "id": "987d3666",
   "metadata": {},
   "outputs": [
    {
     "data": {
      "text/plain": [
       "array([307861.24666773])"
      ]
     },
     "execution_count": 64,
     "metadata": {},
     "output_type": "execute_result"
    }
   ],
   "source": [
    "df.Close[-1] * pred_y[-1] / dfy.Close[-1]"
   ]
  },
  {
   "cell_type": "code",
   "execution_count": 63,
   "id": "f25989c2",
   "metadata": {},
   "outputs": [
    {
     "data": {
      "text/plain": [
       "array([448208.72674265])"
      ]
     },
     "execution_count": 63,
     "metadata": {},
     "output_type": "execute_result"
    }
   ],
   "source": [
    "df.Close[-1] * now_y[-1] / dfy.Close[-1]"
   ]
  },
  {
   "cell_type": "code",
   "execution_count": null,
   "id": "0878554d",
   "metadata": {},
   "outputs": [],
   "source": []
  },
  {
   "cell_type": "code",
   "execution_count": null,
   "id": "00ee8599",
   "metadata": {},
   "outputs": [],
   "source": []
  },
  {
   "cell_type": "code",
   "execution_count": 44,
   "id": "8b68d92a",
   "metadata": {},
   "outputs": [],
   "source": [
    "train_X=train_X.reshape(855,40)"
   ]
  },
  {
   "cell_type": "code",
   "execution_count": 47,
   "id": "c635c737",
   "metadata": {},
   "outputs": [
    {
     "data": {
      "text/plain": [
       "(855, 40)"
      ]
     },
     "execution_count": 47,
     "metadata": {},
     "output_type": "execute_result"
    }
   ],
   "source": [
    "train_X.shape"
   ]
  },
  {
   "cell_type": "code",
   "execution_count": 45,
   "id": "1910a4fa",
   "metadata": {},
   "outputs": [],
   "source": [
    "import xgboost as xgb"
   ]
  },
  {
   "cell_type": "code",
   "execution_count": 46,
   "id": "554bf3b5",
   "metadata": {},
   "outputs": [
    {
     "data": {
      "text/html": [
       "<style>#sk-container-id-1 {color: black;}#sk-container-id-1 pre{padding: 0;}#sk-container-id-1 div.sk-toggleable {background-color: white;}#sk-container-id-1 label.sk-toggleable__label {cursor: pointer;display: block;width: 100%;margin-bottom: 0;padding: 0.3em;box-sizing: border-box;text-align: center;}#sk-container-id-1 label.sk-toggleable__label-arrow:before {content: \"▸\";float: left;margin-right: 0.25em;color: #696969;}#sk-container-id-1 label.sk-toggleable__label-arrow:hover:before {color: black;}#sk-container-id-1 div.sk-estimator:hover label.sk-toggleable__label-arrow:before {color: black;}#sk-container-id-1 div.sk-toggleable__content {max-height: 0;max-width: 0;overflow: hidden;text-align: left;background-color: #f0f8ff;}#sk-container-id-1 div.sk-toggleable__content pre {margin: 0.2em;color: black;border-radius: 0.25em;background-color: #f0f8ff;}#sk-container-id-1 input.sk-toggleable__control:checked~div.sk-toggleable__content {max-height: 200px;max-width: 100%;overflow: auto;}#sk-container-id-1 input.sk-toggleable__control:checked~label.sk-toggleable__label-arrow:before {content: \"▾\";}#sk-container-id-1 div.sk-estimator input.sk-toggleable__control:checked~label.sk-toggleable__label {background-color: #d4ebff;}#sk-container-id-1 div.sk-label input.sk-toggleable__control:checked~label.sk-toggleable__label {background-color: #d4ebff;}#sk-container-id-1 input.sk-hidden--visually {border: 0;clip: rect(1px 1px 1px 1px);clip: rect(1px, 1px, 1px, 1px);height: 1px;margin: -1px;overflow: hidden;padding: 0;position: absolute;width: 1px;}#sk-container-id-1 div.sk-estimator {font-family: monospace;background-color: #f0f8ff;border: 1px dotted black;border-radius: 0.25em;box-sizing: border-box;margin-bottom: 0.5em;}#sk-container-id-1 div.sk-estimator:hover {background-color: #d4ebff;}#sk-container-id-1 div.sk-parallel-item::after {content: \"\";width: 100%;border-bottom: 1px solid gray;flex-grow: 1;}#sk-container-id-1 div.sk-label:hover label.sk-toggleable__label {background-color: #d4ebff;}#sk-container-id-1 div.sk-serial::before {content: \"\";position: absolute;border-left: 1px solid gray;box-sizing: border-box;top: 0;bottom: 0;left: 50%;z-index: 0;}#sk-container-id-1 div.sk-serial {display: flex;flex-direction: column;align-items: center;background-color: white;padding-right: 0.2em;padding-left: 0.2em;position: relative;}#sk-container-id-1 div.sk-item {position: relative;z-index: 1;}#sk-container-id-1 div.sk-parallel {display: flex;align-items: stretch;justify-content: center;background-color: white;position: relative;}#sk-container-id-1 div.sk-item::before, #sk-container-id-1 div.sk-parallel-item::before {content: \"\";position: absolute;border-left: 1px solid gray;box-sizing: border-box;top: 0;bottom: 0;left: 50%;z-index: -1;}#sk-container-id-1 div.sk-parallel-item {display: flex;flex-direction: column;z-index: 1;position: relative;background-color: white;}#sk-container-id-1 div.sk-parallel-item:first-child::after {align-self: flex-end;width: 50%;}#sk-container-id-1 div.sk-parallel-item:last-child::after {align-self: flex-start;width: 50%;}#sk-container-id-1 div.sk-parallel-item:only-child::after {width: 0;}#sk-container-id-1 div.sk-dashed-wrapped {border: 1px dashed gray;margin: 0 0.4em 0.5em 0.4em;box-sizing: border-box;padding-bottom: 0.4em;background-color: white;}#sk-container-id-1 div.sk-label label {font-family: monospace;font-weight: bold;display: inline-block;line-height: 1.2em;}#sk-container-id-1 div.sk-label-container {text-align: center;}#sk-container-id-1 div.sk-container {/* jupyter's `normalize.less` sets `[hidden] { display: none; }` but bootstrap.min.css set `[hidden] { display: none !important; }` so we also need the `!important` here to be able to override the default hidden behavior on the sphinx rendered scikit-learn.org. See: https://github.com/scikit-learn/scikit-learn/issues/21755 */display: inline-block !important;position: relative;}#sk-container-id-1 div.sk-text-repr-fallback {display: none;}</style><div id=\"sk-container-id-1\" class=\"sk-top-container\"><div class=\"sk-text-repr-fallback\"><pre>XGBRegressor(base_score=None, booster=None, callbacks=None,\n",
       "             colsample_bylevel=None, colsample_bynode=None,\n",
       "             colsample_bytree=None, early_stopping_rounds=None,\n",
       "             enable_categorical=False, eval_metric=None, feature_types=None,\n",
       "             gamma=None, gpu_id=None, grow_policy=None, importance_type=None,\n",
       "             interaction_constraints=None, learning_rate=0.1, max_bin=None,\n",
       "             max_cat_threshold=None, max_cat_to_onehot=None,\n",
       "             max_delta_step=None, max_depth=5, max_leaves=None,\n",
       "             min_child_weight=None, missing=nan, monotone_constraints=None,\n",
       "             n_estimators=100, n_jobs=None, num_parallel_tree=None,\n",
       "             predictor=None, random_state=None, ...)</pre><b>In a Jupyter environment, please rerun this cell to show the HTML representation or trust the notebook. <br />On GitHub, the HTML representation is unable to render, please try loading this page with nbviewer.org.</b></div><div class=\"sk-container\" hidden><div class=\"sk-item\"><div class=\"sk-estimator sk-toggleable\"><input class=\"sk-toggleable__control sk-hidden--visually\" id=\"sk-estimator-id-1\" type=\"checkbox\" checked><label for=\"sk-estimator-id-1\" class=\"sk-toggleable__label sk-toggleable__label-arrow\">XGBRegressor</label><div class=\"sk-toggleable__content\"><pre>XGBRegressor(base_score=None, booster=None, callbacks=None,\n",
       "             colsample_bylevel=None, colsample_bynode=None,\n",
       "             colsample_bytree=None, early_stopping_rounds=None,\n",
       "             enable_categorical=False, eval_metric=None, feature_types=None,\n",
       "             gamma=None, gpu_id=None, grow_policy=None, importance_type=None,\n",
       "             interaction_constraints=None, learning_rate=0.1, max_bin=None,\n",
       "             max_cat_threshold=None, max_cat_to_onehot=None,\n",
       "             max_delta_step=None, max_depth=5, max_leaves=None,\n",
       "             min_child_weight=None, missing=nan, monotone_constraints=None,\n",
       "             n_estimators=100, n_jobs=None, num_parallel_tree=None,\n",
       "             predictor=None, random_state=None, ...)</pre></div></div></div></div></div>"
      ],
      "text/plain": [
       "XGBRegressor(base_score=None, booster=None, callbacks=None,\n",
       "             colsample_bylevel=None, colsample_bynode=None,\n",
       "             colsample_bytree=None, early_stopping_rounds=None,\n",
       "             enable_categorical=False, eval_metric=None, feature_types=None,\n",
       "             gamma=None, gpu_id=None, grow_policy=None, importance_type=None,\n",
       "             interaction_constraints=None, learning_rate=0.1, max_bin=None,\n",
       "             max_cat_threshold=None, max_cat_to_onehot=None,\n",
       "             max_delta_step=None, max_depth=5, max_leaves=None,\n",
       "             min_child_weight=None, missing=nan, monotone_constraints=None,\n",
       "             n_estimators=100, n_jobs=None, num_parallel_tree=None,\n",
       "             predictor=None, random_state=None, ...)"
      ]
     },
     "execution_count": 46,
     "metadata": {},
     "output_type": "execute_result"
    }
   ],
   "source": [
    "my_model = xgb.XGBRegressor(learning_rate=0.1,max_depth=5,n_estimators=100)\n",
    "\n",
    "\n",
    "my_model.fit(train_X, train_y, verbose=False)"
   ]
  },
  {
   "cell_type": "code",
   "execution_count": 40,
   "id": "d3e1d1c4",
   "metadata": {},
   "outputs": [
    {
     "data": {
      "text/plain": [
       "(855, 10, 4)"
      ]
     },
     "execution_count": 40,
     "metadata": {},
     "output_type": "execute_result"
    }
   ],
   "source": []
  },
  {
   "cell_type": "code",
   "execution_count": null,
   "id": "3db17bc5",
   "metadata": {},
   "outputs": [],
   "source": []
  },
  {
   "cell_type": "code",
   "execution_count": 49,
   "id": "9de490d8",
   "metadata": {},
   "outputs": [
    {
     "data": {
      "text/html": [
       "<style>#sk-container-id-2 {color: black;}#sk-container-id-2 pre{padding: 0;}#sk-container-id-2 div.sk-toggleable {background-color: white;}#sk-container-id-2 label.sk-toggleable__label {cursor: pointer;display: block;width: 100%;margin-bottom: 0;padding: 0.3em;box-sizing: border-box;text-align: center;}#sk-container-id-2 label.sk-toggleable__label-arrow:before {content: \"▸\";float: left;margin-right: 0.25em;color: #696969;}#sk-container-id-2 label.sk-toggleable__label-arrow:hover:before {color: black;}#sk-container-id-2 div.sk-estimator:hover label.sk-toggleable__label-arrow:before {color: black;}#sk-container-id-2 div.sk-toggleable__content {max-height: 0;max-width: 0;overflow: hidden;text-align: left;background-color: #f0f8ff;}#sk-container-id-2 div.sk-toggleable__content pre {margin: 0.2em;color: black;border-radius: 0.25em;background-color: #f0f8ff;}#sk-container-id-2 input.sk-toggleable__control:checked~div.sk-toggleable__content {max-height: 200px;max-width: 100%;overflow: auto;}#sk-container-id-2 input.sk-toggleable__control:checked~label.sk-toggleable__label-arrow:before {content: \"▾\";}#sk-container-id-2 div.sk-estimator input.sk-toggleable__control:checked~label.sk-toggleable__label {background-color: #d4ebff;}#sk-container-id-2 div.sk-label input.sk-toggleable__control:checked~label.sk-toggleable__label {background-color: #d4ebff;}#sk-container-id-2 input.sk-hidden--visually {border: 0;clip: rect(1px 1px 1px 1px);clip: rect(1px, 1px, 1px, 1px);height: 1px;margin: -1px;overflow: hidden;padding: 0;position: absolute;width: 1px;}#sk-container-id-2 div.sk-estimator {font-family: monospace;background-color: #f0f8ff;border: 1px dotted black;border-radius: 0.25em;box-sizing: border-box;margin-bottom: 0.5em;}#sk-container-id-2 div.sk-estimator:hover {background-color: #d4ebff;}#sk-container-id-2 div.sk-parallel-item::after {content: \"\";width: 100%;border-bottom: 1px solid gray;flex-grow: 1;}#sk-container-id-2 div.sk-label:hover label.sk-toggleable__label {background-color: #d4ebff;}#sk-container-id-2 div.sk-serial::before {content: \"\";position: absolute;border-left: 1px solid gray;box-sizing: border-box;top: 0;bottom: 0;left: 50%;z-index: 0;}#sk-container-id-2 div.sk-serial {display: flex;flex-direction: column;align-items: center;background-color: white;padding-right: 0.2em;padding-left: 0.2em;position: relative;}#sk-container-id-2 div.sk-item {position: relative;z-index: 1;}#sk-container-id-2 div.sk-parallel {display: flex;align-items: stretch;justify-content: center;background-color: white;position: relative;}#sk-container-id-2 div.sk-item::before, #sk-container-id-2 div.sk-parallel-item::before {content: \"\";position: absolute;border-left: 1px solid gray;box-sizing: border-box;top: 0;bottom: 0;left: 50%;z-index: -1;}#sk-container-id-2 div.sk-parallel-item {display: flex;flex-direction: column;z-index: 1;position: relative;background-color: white;}#sk-container-id-2 div.sk-parallel-item:first-child::after {align-self: flex-end;width: 50%;}#sk-container-id-2 div.sk-parallel-item:last-child::after {align-self: flex-start;width: 50%;}#sk-container-id-2 div.sk-parallel-item:only-child::after {width: 0;}#sk-container-id-2 div.sk-dashed-wrapped {border: 1px dashed gray;margin: 0 0.4em 0.5em 0.4em;box-sizing: border-box;padding-bottom: 0.4em;background-color: white;}#sk-container-id-2 div.sk-label label {font-family: monospace;font-weight: bold;display: inline-block;line-height: 1.2em;}#sk-container-id-2 div.sk-label-container {text-align: center;}#sk-container-id-2 div.sk-container {/* jupyter's `normalize.less` sets `[hidden] { display: none; }` but bootstrap.min.css set `[hidden] { display: none !important; }` so we also need the `!important` here to be able to override the default hidden behavior on the sphinx rendered scikit-learn.org. See: https://github.com/scikit-learn/scikit-learn/issues/21755 */display: inline-block !important;position: relative;}#sk-container-id-2 div.sk-text-repr-fallback {display: none;}</style><div id=\"sk-container-id-2\" class=\"sk-top-container\"><div class=\"sk-text-repr-fallback\"><pre>XGBRegressor(base_score=None, booster=None, callbacks=None,\n",
       "             colsample_bylevel=None, colsample_bynode=None,\n",
       "             colsample_bytree=None, early_stopping_rounds=None,\n",
       "             enable_categorical=False, eval_metric=None, feature_types=None,\n",
       "             gamma=None, gpu_id=None, grow_policy=None, importance_type=None,\n",
       "             interaction_constraints=None, learning_rate=0.1, max_bin=None,\n",
       "             max_cat_threshold=None, max_cat_to_onehot=None,\n",
       "             max_delta_step=None, max_depth=5, max_leaves=None,\n",
       "             min_child_weight=None, missing=nan, monotone_constraints=None,\n",
       "             n_estimators=100, n_jobs=None, num_parallel_tree=None,\n",
       "             predictor=None, random_state=None, ...)</pre><b>In a Jupyter environment, please rerun this cell to show the HTML representation or trust the notebook. <br />On GitHub, the HTML representation is unable to render, please try loading this page with nbviewer.org.</b></div><div class=\"sk-container\" hidden><div class=\"sk-item\"><div class=\"sk-estimator sk-toggleable\"><input class=\"sk-toggleable__control sk-hidden--visually\" id=\"sk-estimator-id-2\" type=\"checkbox\" checked><label for=\"sk-estimator-id-2\" class=\"sk-toggleable__label sk-toggleable__label-arrow\">XGBRegressor</label><div class=\"sk-toggleable__content\"><pre>XGBRegressor(base_score=None, booster=None, callbacks=None,\n",
       "             colsample_bylevel=None, colsample_bynode=None,\n",
       "             colsample_bytree=None, early_stopping_rounds=None,\n",
       "             enable_categorical=False, eval_metric=None, feature_types=None,\n",
       "             gamma=None, gpu_id=None, grow_policy=None, importance_type=None,\n",
       "             interaction_constraints=None, learning_rate=0.1, max_bin=None,\n",
       "             max_cat_threshold=None, max_cat_to_onehot=None,\n",
       "             max_delta_step=None, max_depth=5, max_leaves=None,\n",
       "             min_child_weight=None, missing=nan, monotone_constraints=None,\n",
       "             n_estimators=100, n_jobs=None, num_parallel_tree=None,\n",
       "             predictor=None, random_state=None, ...)</pre></div></div></div></div></div>"
      ],
      "text/plain": [
       "XGBRegressor(base_score=None, booster=None, callbacks=None,\n",
       "             colsample_bylevel=None, colsample_bynode=None,\n",
       "             colsample_bytree=None, early_stopping_rounds=None,\n",
       "             enable_categorical=False, eval_metric=None, feature_types=None,\n",
       "             gamma=None, gpu_id=None, grow_policy=None, importance_type=None,\n",
       "             interaction_constraints=None, learning_rate=0.1, max_bin=None,\n",
       "             max_cat_threshold=None, max_cat_to_onehot=None,\n",
       "             max_delta_step=None, max_depth=5, max_leaves=None,\n",
       "             min_child_weight=None, missing=nan, monotone_constraints=None,\n",
       "             n_estimators=100, n_jobs=None, num_parallel_tree=None,\n",
       "             predictor=None, random_state=None, ...)"
      ]
     },
     "execution_count": 49,
     "metadata": {},
     "output_type": "execute_result"
    }
   ],
   "source": [
    "my_model.fit(train_X, train_y, verbose=False)"
   ]
  },
  {
   "cell_type": "code",
   "execution_count": 52,
   "id": "5fe135ef",
   "metadata": {},
   "outputs": [
    {
     "data": {
      "text/plain": [
       "(123, 10, 4)"
      ]
     },
     "execution_count": 52,
     "metadata": {},
     "output_type": "execute_result"
    }
   ],
   "source": [
    "test_X.shape"
   ]
  },
  {
   "cell_type": "code",
   "execution_count": 53,
   "id": "71c68b85",
   "metadata": {},
   "outputs": [],
   "source": [
    "test_X=test_X.reshape(123,40)"
   ]
  },
  {
   "cell_type": "code",
   "execution_count": 54,
   "id": "7a495e37",
   "metadata": {},
   "outputs": [],
   "source": [
    "y_pred = my_model.predict(test_X) "
   ]
  },
  {
   "cell_type": "code",
   "execution_count": null,
   "id": "a9d862e5",
   "metadata": {},
   "outputs": [],
   "source": []
  },
  {
   "cell_type": "code",
   "execution_count": null,
   "id": "a3627aa6",
   "metadata": {},
   "outputs": [],
   "source": []
  },
  {
   "cell_type": "code",
   "execution_count": 57,
   "id": "e1e9e3be",
   "metadata": {},
   "outputs": [
    {
     "name": "stdout",
     "output_type": "stream",
     "text": [
      "RMSE : 0.02312438468777363\n",
      "R2 : 0.932526468857052\n"
     ]
    }
   ],
   "source": [
    "#RMSE 구하기\n",
    "\n",
    "from sklearn.metrics import mean_squared_error\n",
    "\n",
    "def RMSE(test_y, y_predict):\n",
    "   return np.sqrt(mean_squared_error(test_y, y_predict))\n",
    "print(\"RMSE :\", RMSE(test_y, y_pred))\n",
    "\n",
    "# R2 구하기\n",
    "from sklearn.metrics import r2_score\n",
    "f2_y_predict = r2_score(test_y, y_pred)\n",
    "print(\"R2 :\", f2_y_predict)"
   ]
  },
  {
   "cell_type": "code",
   "execution_count": null,
   "id": "3e8b88f8",
   "metadata": {},
   "outputs": [],
   "source": []
  },
  {
   "cell_type": "code",
   "execution_count": null,
   "id": "e553b1d5",
   "metadata": {},
   "outputs": [],
   "source": []
  },
  {
   "cell_type": "code",
   "execution_count": null,
   "id": "dcb2f259",
   "metadata": {},
   "outputs": [],
   "source": []
  },
  {
   "cell_type": "code",
   "execution_count": 9,
   "id": "605ddc04",
   "metadata": {},
   "outputs": [
    {
     "name": "stdout",
     "output_type": "stream",
     "text": [
      "Model: \"sequential_1\"\n",
      "_________________________________________________________________\n",
      " Layer (type)                Output Shape              Param #   \n",
      "=================================================================\n",
      " bidirectional_2 (Bidirectio  (None, 10, 128)          35328     \n",
      " nal)                                                            \n",
      "                                                                 \n",
      " dropout_2 (Dropout)         (None, 10, 128)           0         \n",
      "                                                                 \n",
      " bidirectional_3 (Bidirectio  (None, 128)              98816     \n",
      " nal)                                                            \n",
      "                                                                 \n",
      " dropout_3 (Dropout)         (None, 128)               0         \n",
      "                                                                 \n",
      " dense_1 (Dense)             (None, 1)                 129       \n",
      "                                                                 \n",
      "=================================================================\n",
      "Total params: 134,273\n",
      "Trainable params: 134,273\n",
      "Non-trainable params: 0\n",
      "_________________________________________________________________\n"
     ]
    }
   ],
   "source": [
    "def MinMaxScaler(data):\n",
    "    numerator = data - np.min(data, 0)\n",
    "    denominator = np.max(data, 0) - np.min(data, 0)\n",
    "    return numerator / (denominator + 1e-7)\n",
    "\n",
    "\n",
    "df = fdr.DataReader('035420', '2018-01-01', '2023-01-01') #네이버\n",
    "dfx = df[['Open','High','Low','Volume', 'Close']]\n",
    "dfx = MinMaxScaler(dfx)\n",
    "dfy = dfx[['Close']]\n",
    "dfx = dfx[['Open','High','Low','Volume']]\n",
    "dfx=dfx.reset_index()\n",
    "dfx=dfx.set_index(keys='Date')\n",
    "\n",
    "\n",
    "X = dfx.values.tolist()\n",
    "y = dfy.values.tolist()\n",
    "\n",
    "#며칠데이터로 예측\n",
    "window_size = 10\n",
    "\n",
    "data_X = []\n",
    "data_y = []\n",
    "for i in range(len(y) - window_size):\n",
    "    _X = X[i : i + window_size] \n",
    "    _y = y[i + window_size]     \n",
    "    data_X.append(_X)\n",
    "    data_y.append(_y)\n",
    "    \n",
    "    \n",
    "n=len(data_y)\n",
    "\n",
    "train_X = np.array(data_X[0:int(n*0.7)])\n",
    "train_y = np.array(data_y[0:int(n*0.7)])\n",
    "\n",
    "val_X = np.array(data_X[int(n*0.7):int(n*0.9)])\n",
    "val_y = np.array(data_y[int(n*0.7):int(n*0.9)])\n",
    "\n",
    "test_X = np.array(data_X[int(n*0.9):])\n",
    "test_y = np.array(data_y[int(n*0.9):])\n",
    "\n",
    "validation_data = (val_X,val_y)\n",
    "\n",
    "model2 = Sequential()\n",
    "\n",
    "\n",
    "forward_layer = LSTM(64, return_sequences=True)\n",
    "backward_layer = LSTM(64, activation='relu', return_sequences=True,\n",
    "                      go_backwards=True)\n",
    "\n",
    "model2.add(Bidirectional(forward_layer, backward_layer=backward_layer,\n",
    "                        input_shape=(10, 4)))\n",
    "\n",
    "model2.add(Dropout(0.2))\n",
    "\n",
    "model2.add(Bidirectional(LSTM(64)))\n",
    "\n",
    "model2.add(Dropout(0.2))\n",
    "\n",
    "model2.add(Dense(units=1))\n",
    "\n",
    "\n",
    "model2.summary()"
   ]
  },
  {
   "cell_type": "code",
   "execution_count": 10,
   "id": "1d0478b4",
   "metadata": {},
   "outputs": [
    {
     "name": "stdout",
     "output_type": "stream",
     "text": [
      "Epoch 1/100\n",
      "29/29 [==============================] - 7s 67ms/step - loss: 0.0245 - val_loss: 0.0055\n",
      "Epoch 2/100\n",
      "29/29 [==============================] - 0s 16ms/step - loss: 0.0033 - val_loss: 0.0049\n",
      "Epoch 3/100\n",
      "29/29 [==============================] - 1s 20ms/step - loss: 0.0022 - val_loss: 0.0017\n",
      "Epoch 4/100\n",
      "29/29 [==============================] - 0s 16ms/step - loss: 0.0018 - val_loss: 0.0023\n",
      "Epoch 5/100\n",
      "29/29 [==============================] - 1s 19ms/step - loss: 0.0016 - val_loss: 0.0028\n",
      "Epoch 6/100\n",
      "29/29 [==============================] - 0s 16ms/step - loss: 0.0015 - val_loss: 0.0022\n",
      "Epoch 7/100\n",
      "29/29 [==============================] - 0s 16ms/step - loss: 0.0021 - val_loss: 0.0039\n",
      "Epoch 8/100\n",
      "29/29 [==============================] - 1s 18ms/step - loss: 0.0014 - val_loss: 0.0028\n",
      "Epoch 9/100\n",
      "29/29 [==============================] - 0s 16ms/step - loss: 0.0015 - val_loss: 0.0015\n",
      "Epoch 10/100\n",
      "29/29 [==============================] - 1s 19ms/step - loss: 0.0015 - val_loss: 0.0026\n",
      "Epoch 11/100\n",
      "29/29 [==============================] - 1s 19ms/step - loss: 0.0014 - val_loss: 0.0015\n",
      "Epoch 12/100\n",
      "29/29 [==============================] - 1s 19ms/step - loss: 0.0012 - val_loss: 0.0016\n",
      "Epoch 13/100\n",
      "29/29 [==============================] - 0s 16ms/step - loss: 0.0013 - val_loss: 0.0015\n",
      "Epoch 14/100\n",
      "29/29 [==============================] - 0s 16ms/step - loss: 0.0014 - val_loss: 0.0015\n",
      "Epoch 15/100\n",
      "29/29 [==============================] - 1s 20ms/step - loss: 0.0012 - val_loss: 0.0021\n",
      "Epoch 16/100\n",
      "29/29 [==============================] - 1s 19ms/step - loss: 0.0014 - val_loss: 0.0027\n",
      "Epoch 17/100\n",
      "29/29 [==============================] - 1s 18ms/step - loss: 0.0012 - val_loss: 0.0027\n",
      "Epoch 18/100\n",
      "29/29 [==============================] - 1s 18ms/step - loss: 0.0014 - val_loss: 0.0016\n",
      "Epoch 19/100\n",
      "29/29 [==============================] - 0s 16ms/step - loss: 0.0013 - val_loss: 0.0019\n",
      "Epoch 20/100\n",
      "29/29 [==============================] - 0s 16ms/step - loss: 0.0012 - val_loss: 0.0016\n",
      "Epoch 21/100\n",
      "29/29 [==============================] - 1s 19ms/step - loss: 0.0011 - val_loss: 0.0019\n",
      "Epoch 22/100\n",
      "29/29 [==============================] - 1s 18ms/step - loss: 0.0013 - val_loss: 0.0015\n",
      "Epoch 23/100\n",
      "29/29 [==============================] - 0s 16ms/step - loss: 0.0015 - val_loss: 0.0021\n",
      "Epoch 24/100\n",
      "29/29 [==============================] - 1s 18ms/step - loss: 0.0012 - val_loss: 0.0014\n",
      "Epoch 25/100\n",
      "29/29 [==============================] - 1s 18ms/step - loss: 0.0012 - val_loss: 0.0014\n",
      "Epoch 26/100\n",
      "29/29 [==============================] - 1s 19ms/step - loss: 0.0010 - val_loss: 0.0021\n",
      "Epoch 27/100\n",
      "29/29 [==============================] - 1s 18ms/step - loss: 0.0012 - val_loss: 0.0021\n",
      "Epoch 28/100\n",
      "29/29 [==============================] - 1s 22ms/step - loss: 0.0012 - val_loss: 0.0023\n",
      "Epoch 29/100\n",
      "29/29 [==============================] - 1s 21ms/step - loss: 0.0011 - val_loss: 0.0018\n",
      "Epoch 30/100\n",
      "29/29 [==============================] - 0s 16ms/step - loss: 9.3985e-04 - val_loss: 0.0031\n",
      "Epoch 31/100\n",
      "29/29 [==============================] - 1s 19ms/step - loss: 9.5932e-04 - val_loss: 0.0053\n",
      "Epoch 32/100\n",
      "29/29 [==============================] - 0s 17ms/step - loss: 0.0017 - val_loss: 0.0022\n",
      "Epoch 33/100\n",
      "29/29 [==============================] - 1s 18ms/step - loss: 0.0010 - val_loss: 0.0014\n",
      "Epoch 34/100\n",
      "29/29 [==============================] - 0s 17ms/step - loss: 0.0011 - val_loss: 0.0013\n",
      "Epoch 35/100\n",
      "29/29 [==============================] - 0s 16ms/step - loss: 0.0012 - val_loss: 0.0018\n",
      "Epoch 36/100\n",
      "29/29 [==============================] - 0s 16ms/step - loss: 9.9118e-04 - val_loss: 0.0014\n",
      "Epoch 37/100\n",
      "29/29 [==============================] - 1s 18ms/step - loss: 9.7759e-04 - val_loss: 0.0015\n",
      "Epoch 38/100\n",
      "29/29 [==============================] - 1s 19ms/step - loss: 9.7513e-04 - val_loss: 0.0015\n",
      "Epoch 39/100\n",
      "29/29 [==============================] - 0s 15ms/step - loss: 9.4241e-04 - val_loss: 0.0017\n",
      "Epoch 40/100\n",
      "29/29 [==============================] - 1s 18ms/step - loss: 9.5276e-04 - val_loss: 0.0013\n",
      "Epoch 41/100\n",
      "29/29 [==============================] - 1s 21ms/step - loss: 8.6828e-04 - val_loss: 0.0018\n",
      "Epoch 42/100\n",
      "29/29 [==============================] - 1s 24ms/step - loss: 0.0010 - val_loss: 0.0015\n",
      "Epoch 43/100\n",
      "29/29 [==============================] - 0s 17ms/step - loss: 9.3023e-04 - val_loss: 0.0014\n",
      "Epoch 44/100\n",
      "29/29 [==============================] - 0s 16ms/step - loss: 8.4118e-04 - val_loss: 0.0013\n",
      "Epoch 45/100\n",
      "29/29 [==============================] - 1s 18ms/step - loss: 0.0010 - val_loss: 0.0013\n",
      "Epoch 46/100\n",
      "29/29 [==============================] - 1s 19ms/step - loss: 8.9818e-04 - val_loss: 0.0013\n",
      "Epoch 47/100\n",
      "29/29 [==============================] - 1s 20ms/step - loss: 9.1352e-04 - val_loss: 0.0021\n",
      "Epoch 48/100\n",
      "29/29 [==============================] - 1s 18ms/step - loss: 0.0011 - val_loss: 0.0012\n",
      "Epoch 49/100\n",
      "29/29 [==============================] - 1s 19ms/step - loss: 8.4184e-04 - val_loss: 0.0012\n",
      "Epoch 50/100\n",
      "29/29 [==============================] - 1s 17ms/step - loss: 8.6298e-04 - val_loss: 0.0013\n",
      "Epoch 51/100\n",
      "29/29 [==============================] - 0s 16ms/step - loss: 8.6755e-04 - val_loss: 0.0012\n",
      "Epoch 52/100\n",
      "29/29 [==============================] - 1s 21ms/step - loss: 8.7648e-04 - val_loss: 0.0017\n",
      "Epoch 53/100\n",
      "29/29 [==============================] - 0s 16ms/step - loss: 8.9841e-04 - val_loss: 0.0017\n",
      "Epoch 54/100\n",
      "29/29 [==============================] - 1s 19ms/step - loss: 9.6322e-04 - val_loss: 0.0012\n",
      "Epoch 55/100\n",
      "29/29 [==============================] - 1s 19ms/step - loss: 8.5161e-04 - val_loss: 0.0014\n",
      "Epoch 56/100\n",
      "29/29 [==============================] - 0s 16ms/step - loss: 8.8348e-04 - val_loss: 0.0028\n",
      "Epoch 57/100\n",
      "29/29 [==============================] - 0s 15ms/step - loss: 8.4874e-04 - val_loss: 0.0013\n",
      "Epoch 58/100\n",
      "29/29 [==============================] - 0s 16ms/step - loss: 8.5607e-04 - val_loss: 0.0013\n",
      "Epoch 59/100\n",
      "29/29 [==============================] - 0s 17ms/step - loss: 9.3162e-04 - val_loss: 0.0044\n",
      "Epoch 60/100\n",
      "29/29 [==============================] - 1s 19ms/step - loss: 0.0011 - val_loss: 0.0012\n",
      "Epoch 61/100\n",
      "29/29 [==============================] - 0s 17ms/step - loss: 7.9284e-04 - val_loss: 0.0012\n",
      "Epoch 62/100\n",
      "29/29 [==============================] - 0s 16ms/step - loss: 9.0234e-04 - val_loss: 0.0012\n",
      "Epoch 63/100\n",
      "29/29 [==============================] - 0s 16ms/step - loss: 8.9985e-04 - val_loss: 0.0020\n",
      "Epoch 64/100\n",
      "29/29 [==============================] - 0s 16ms/step - loss: 8.5826e-04 - val_loss: 0.0013\n",
      "Epoch 65/100\n",
      "29/29 [==============================] - 0s 17ms/step - loss: 7.7050e-04 - val_loss: 0.0011\n",
      "Epoch 66/100\n",
      "29/29 [==============================] - 0s 16ms/step - loss: 7.1249e-04 - val_loss: 0.0012\n",
      "Epoch 67/100\n",
      "29/29 [==============================] - 1s 17ms/step - loss: 8.3932e-04 - val_loss: 0.0014\n",
      "Epoch 68/100\n",
      "29/29 [==============================] - 1s 18ms/step - loss: 8.1027e-04 - val_loss: 0.0011\n",
      "Epoch 69/100\n",
      "29/29 [==============================] - 0s 15ms/step - loss: 9.3246e-04 - val_loss: 0.0013\n",
      "Epoch 70/100\n",
      "29/29 [==============================] - 1s 19ms/step - loss: 7.8840e-04 - val_loss: 0.0011\n",
      "Epoch 71/100\n",
      "29/29 [==============================] - 0s 15ms/step - loss: 8.6877e-04 - val_loss: 0.0011\n",
      "Epoch 72/100\n",
      "29/29 [==============================] - 1s 18ms/step - loss: 7.9437e-04 - val_loss: 0.0022\n",
      "Epoch 73/100\n",
      "29/29 [==============================] - 1s 19ms/step - loss: 8.0540e-04 - val_loss: 0.0015\n",
      "Epoch 74/100\n",
      "29/29 [==============================] - 1s 19ms/step - loss: 0.0010 - val_loss: 0.0013\n",
      "Epoch 75/100\n",
      "29/29 [==============================] - 1s 20ms/step - loss: 8.1415e-04 - val_loss: 0.0016\n",
      "Epoch 76/100\n",
      "29/29 [==============================] - 1s 20ms/step - loss: 8.3351e-04 - val_loss: 0.0016\n",
      "Epoch 77/100\n",
      "29/29 [==============================] - 0s 16ms/step - loss: 8.2509e-04 - val_loss: 0.0014\n",
      "Epoch 78/100\n",
      "29/29 [==============================] - 0s 17ms/step - loss: 8.9568e-04 - val_loss: 0.0013\n",
      "Epoch 79/100\n",
      "29/29 [==============================] - 0s 16ms/step - loss: 9.0063e-04 - val_loss: 0.0014\n",
      "Epoch 80/100\n"
     ]
    },
    {
     "name": "stdout",
     "output_type": "stream",
     "text": [
      "29/29 [==============================] - 1s 19ms/step - loss: 9.7207e-04 - val_loss: 0.0014\n",
      "Epoch 81/100\n",
      "29/29 [==============================] - 1s 17ms/step - loss: 8.1705e-04 - val_loss: 0.0017\n",
      "Epoch 82/100\n",
      "29/29 [==============================] - 1s 18ms/step - loss: 8.6777e-04 - val_loss: 0.0014\n",
      "Epoch 83/100\n",
      "29/29 [==============================] - 1s 18ms/step - loss: 7.3409e-04 - val_loss: 0.0011\n",
      "Epoch 84/100\n",
      "29/29 [==============================] - 0s 16ms/step - loss: 6.4666e-04 - val_loss: 0.0010\n",
      "Epoch 85/100\n",
      "29/29 [==============================] - 0s 16ms/step - loss: 6.9289e-04 - val_loss: 0.0011\n",
      "Epoch 86/100\n",
      "29/29 [==============================] - 0s 16ms/step - loss: 7.4727e-04 - val_loss: 0.0011\n",
      "Epoch 87/100\n",
      "29/29 [==============================] - 1s 18ms/step - loss: 7.7006e-04 - val_loss: 0.0011\n",
      "Epoch 88/100\n",
      "29/29 [==============================] - 0s 16ms/step - loss: 7.7839e-04 - val_loss: 0.0019\n",
      "Epoch 89/100\n",
      "29/29 [==============================] - 0s 16ms/step - loss: 8.3218e-04 - val_loss: 0.0010\n",
      "Epoch 90/100\n",
      "29/29 [==============================] - 0s 16ms/step - loss: 7.4978e-04 - val_loss: 0.0011\n",
      "Epoch 91/100\n",
      "29/29 [==============================] - 1s 18ms/step - loss: 8.8229e-04 - val_loss: 0.0014\n",
      "Epoch 92/100\n",
      "29/29 [==============================] - 1s 17ms/step - loss: 8.0256e-04 - val_loss: 0.0056\n",
      "Epoch 93/100\n",
      "29/29 [==============================] - 1s 18ms/step - loss: 0.0011 - val_loss: 0.0016\n",
      "Epoch 94/100\n",
      "29/29 [==============================] - 1s 19ms/step - loss: 8.1127e-04 - val_loss: 0.0013\n",
      "Epoch 95/100\n",
      "29/29 [==============================] - 1s 19ms/step - loss: 7.7704e-04 - val_loss: 0.0011\n",
      "Epoch 96/100\n",
      "29/29 [==============================] - 1s 18ms/step - loss: 6.2260e-04 - val_loss: 0.0010\n",
      "Epoch 97/100\n",
      "29/29 [==============================] - 1s 19ms/step - loss: 7.6578e-04 - val_loss: 0.0016\n",
      "Epoch 98/100\n",
      "29/29 [==============================] - 1s 18ms/step - loss: 8.3762e-04 - val_loss: 0.0012\n",
      "Epoch 99/100\n",
      "29/29 [==============================] - 1s 20ms/step - loss: 5.3792e-04 - val_loss: 0.0010\n",
      "Epoch 100/100\n",
      "29/29 [==============================] - 0s 16ms/step - loss: 7.0964e-04 - val_loss: 0.0012\n",
      "4/4 [==============================] - 1s 7ms/step\n"
     ]
    }
   ],
   "source": [
    "model2.compile(optimizer='adam', \n",
    "              loss='mean_squared_error')\n",
    "model2.fit(train_X, \n",
    "          train_y, \n",
    "          epochs=100, \n",
    "          batch_size=30,\n",
    "          validation_data=validation_data\n",
    "         )\n",
    "\n",
    "\n",
    "\n",
    "pred_y = model2.predict(test_X)"
   ]
  },
  {
   "cell_type": "code",
   "execution_count": 11,
   "id": "6e4476ab",
   "metadata": {},
   "outputs": [
    {
     "name": "stdout",
     "output_type": "stream",
     "text": [
      "4/4 [==============================] - 0s 5ms/step\n"
     ]
    },
    {
     "data": {
      "image/png": "[encoded data removed]",
      "text/plain": [
       "<Figure size 640x480 with 1 Axes>"
      ]
     },
     "metadata": {},
     "output_type": "display_data"
    }
   ],
   "source": [
    "pred_y = model2.predict(test_X)\n",
    "\n",
    "plt.figure()\n",
    "plt.plot(test_y, color='red', label='real SEC stock price')\n",
    "plt.plot(pred_y, color='blue', label='predicted SEC stock price')\n",
    "plt.title('SEC stock price prediction')\n",
    "plt.xlabel('time')\n",
    "plt.ylabel('stock price')\n",
    "plt.legend()\n",
    "plt.show()"
   ]
  },
  {
   "cell_type": "code",
   "execution_count": 13,
   "id": "15b6d806",
   "metadata": {},
   "outputs": [
    {
     "name": "stdout",
     "output_type": "stream",
     "text": [
      "RMSE : 0.033645458227724134\n",
      "R2 : 0.8846264021275431\n"
     ]
    }
   ],
   "source": [
    "#RMSE 구하기\n",
    "\n",
    "from sklearn.metrics import mean_squared_error\n",
    "\n",
    "def RMSE(test_y, y_predict):\n",
    "   return np.sqrt(mean_squared_error(test_y, y_predict))\n",
    "print(\"RMSE :\", RMSE(test_y, pred_y))\n",
    "\n",
    "# R2 구하기\n",
    "from sklearn.metrics import r2_score\n",
    "f2_y_predict = r2_score(test_y, pred_y)\n",
    "print(\"R2 :\", f2_y_predict)"
   ]
  },
  {
   "cell_type": "code",
   "execution_count": null,
   "id": "f42c9bf3",
   "metadata": {},
   "outputs": [],
   "source": []
  },
  {
   "cell_type": "code",
   "execution_count": null,
   "id": "9ad3463f",
   "metadata": {},
   "outputs": [],
   "source": []
  },
  {
   "cell_type": "code",
   "execution_count": 14,
   "id": "e218712e",
   "metadata": {},
   "outputs": [],
   "source": [
    "df = fdr.DataReader('035420', '2018-01-01', '2023-09-07')\n",
    "dfx = df[['Open','High','Low','Volume', 'Close']]\n",
    "dfx = MinMaxScaler(dfx)\n",
    "dfy = dfx[['Close']]\n",
    "dfx = dfx[['Open','High','Low','Volume']]\n",
    "dfx=dfx.reset_index()\n",
    "dfx=dfx.set_index(keys='Date')\n",
    "\n",
    "\n",
    "X = dfx.values.tolist()\n",
    "y = dfy.values.tolist()\n",
    "\n",
    "#며칠데이터로 예측\n",
    "window_size = 10\n",
    "\n",
    "data_X = []\n",
    "data_y = []\n",
    "for i in range(len(y) - window_size):\n",
    "    _X = X[i : i + window_size] \n",
    "    _y = y[i + window_size]     \n",
    "    data_X.append(_X)\n",
    "    data_y.append(_y)\n",
    "    \n",
    "now_X = np.array(data_X)\n",
    "now_y = np.array(data_y)"
   ]
  },
  {
   "cell_type": "code",
   "execution_count": 22,
   "id": "d8da7a99",
   "metadata": {},
   "outputs": [
    {
     "name": "stdout",
     "output_type": "stream",
     "text": [
      "2/2 [==============================] - 0s 6ms/step\n"
     ]
    },
    {
     "data": {
      "image/png": "[encoded data removed]",
      "text/plain": [
       "<Figure size 640x480 with 1 Axes>"
      ]
     },
     "metadata": {},
     "output_type": "display_data"
    }
   ],
   "source": [
    "pred_y = model2.predict(now_X[-40:])\n",
    "\n",
    "\n",
    "plt.figure()\n",
    "plt.plot(pred_y[-40:], color='red', label='real SEC stock price')\n",
    "plt.plot(now_y[-40:], color='blue', label='predicted SEC stock price')\n",
    "plt.title('SEC stock price prediction')\n",
    "plt.xlabel('time')\n",
    "plt.ylabel('stock price')\n",
    "plt.legend()\n",
    "plt.show()"
   ]
  },
  {
   "cell_type": "code",
   "execution_count": 23,
   "id": "71869151",
   "metadata": {},
   "outputs": [
    {
     "name": "stdout",
     "output_type": "stream",
     "text": [
      "RMSE : 0.031297959803421226\n",
      "R2 : -0.4259588496602422\n"
     ]
    }
   ],
   "source": [
    "#RMSE 구하기\n",
    "\n",
    "from sklearn.metrics import mean_squared_error\n",
    "\n",
    "def RMSE(test_y, y_predict):\n",
    "   return np.sqrt(mean_squared_error(test_y, y_predict))\n",
    "print(\"RMSE :\", RMSE(now_y[-40:], pred_y[-40:]))\n",
    "\n",
    "# R2 구하기\n",
    "from sklearn.metrics import r2_score\n",
    "f2_y_predict = r2_score(now_y[-40:], pred_y[-40:])\n",
    "print(\"R2 :\", f2_y_predict)"
   ]
  },
  {
   "cell_type": "code",
   "execution_count": null,
   "id": "7cae736b",
   "metadata": {},
   "outputs": [],
   "source": []
  },
  {
   "cell_type": "code",
   "execution_count": null,
   "id": "f004391a",
   "metadata": {},
   "outputs": [],
   "source": []
  },
  {
   "cell_type": "code",
   "execution_count": null,
   "id": "ca01e1dd",
   "metadata": {},
   "outputs": [],
   "source": []
  },
  {
   "cell_type": "code",
   "execution_count": null,
   "id": "f863d4bd",
   "metadata": {},
   "outputs": [],
   "source": []
  },
  {
   "cell_type": "code",
   "execution_count": null,
   "id": "5dce8a37",
   "metadata": {},
   "outputs": [],
   "source": []
  },
  {
   "cell_type": "code",
   "execution_count": null,
   "id": "89aaedbe",
   "metadata": {},
   "outputs": [],
   "source": []
  },
  {
   "cell_type": "code",
   "execution_count": null,
   "id": "11561d7f",
   "metadata": {},
   "outputs": [],
   "source": []
  },
  {
   "cell_type": "code",
   "execution_count": null,
   "id": "099ad9c6",
   "metadata": {},
   "outputs": [],
   "source": []
  },
  {
   "cell_type": "code",
   "execution_count": null,
   "id": "7f99e13b",
   "metadata": {},
   "outputs": [],
   "source": []
  },
  {
   "cell_type": "code",
   "execution_count": null,
   "id": "11e133b6",
   "metadata": {},
   "outputs": [],
   "source": []
  },
  {
   "cell_type": "code",
   "execution_count": null,
   "id": "b59b5015",
   "metadata": {},
   "outputs": [],
   "source": []
  }
 ],
 "metadata": {
  "kernelspec": {
   "display_name": "Python 3 (ipykernel)",
   "language": "python",
   "name": "python3"
  },
  "language_info": {
   "codemirror_mode": {
    "name": "ipython",
    "version": 3
   },
   "file_extension": ".py",
   "mimetype": "text/x-python",
   "name": "python",
   "nbconvert_exporter": "python",
   "pygments_lexer": "ipython3",
   "version": "3.10.12"
  }
 },
 "nbformat": 4,
 "nbformat_minor": 5
}
