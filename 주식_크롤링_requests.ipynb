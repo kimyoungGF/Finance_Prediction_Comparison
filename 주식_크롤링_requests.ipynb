{
 "cells": [
  {
   "cell_type": "code",
   "execution_count": 1,
   "id": "bf62ebce",
   "metadata": {},
   "outputs": [],
   "source": [
    "import datetime as dt\n",
    "import pandas as pd\n",
    "import requests\n",
    "import datetime\n",
    "from dateutil.parser import parse"
   ]
  },
  {
   "cell_type": "code",
   "execution_count": null,
   "id": "6dee5d12",
   "metadata": {},
   "outputs": [],
   "source": [
    "Kospi_50 = pd.DataFrame({'종목코드':['005930', '000660', '207940', '051910', '006400'\n",
    "                                    , '005380', '000270', '207940', '005490', '035420'\n",
    "                                    , '003670', '035720', '068270', '012330', '066570'\n",
    "                                    , '028260', '105560', '055550', '096770', '032830'\n",
    "                                    , '034730', '086790', '015760', '034020', '033780'\n",
    "                                    , '000810', '329180', '009150', '017670', '010130'\n",
    "                                    , '018260', '011200', '138040', '316140', '010950'\n",
    "                                    , '051900', '009830', '003490', '024110', '030200'\n",
    "                                    , '011170', '011070', '009540', '361610', '036570'\n",
    "                                    , '086280', '047050', '090430', '241560', '034220'],\n",
    "                             '종목명':['삼성전자', 'SK하이닉스', '삼성바이오로직스', 'LG화학', '삼성SDI'\n",
    "                                   , '현대차', '기아', '삼성바이오로직스', 'POSCO홀딩스', 'NAVER'\n",
    "                                   , '포스코퓨처엠', '카카오', '셀트리온', '현대모비스', 'LG전자'\n",
    "                                   , '삼성물산', 'KB금융', '신한지주', 'SK이노베이션', '삼성생명'\n",
    "                                   , 'SK', '하나금융지주', '한국전력', '두산에너빌리티', 'KT&G'\n",
    "                                   , '삼성화재', 'HD현대중공업', '삼성전기', 'SK텔레콤', '고려아연'\n",
    "                                   , '삼성에스디에스', 'HMM', '메리츠금융지주', '우리금융지주', 'S-Oil'\n",
    "                                   , 'LG생활건강', '한화솔루션', '대한항공', '기업은행', 'KT'\n",
    "                                   , '롯데케미칼', 'LG이노텍', 'HD한국조선해양', 'SK아이이테크놀로지', '엔씨소프트'\n",
    "                                   , '현대글로비스', '포스코인터내셔널', '아모레퍼시픽', '두산밥캣','LG디스플레이']})"
   ]
  },
  {
   "cell_type": "code",
   "execution_count": null,
   "id": "67575673",
   "metadata": {},
   "outputs": [],
   "source": [
    "def storkbattelCR(stopday,company,companynum):\n",
    "\n",
    "    \n",
    "    stopdate=parse(stopday)\n",
    "    nowdate=datetime.datetime.now()\n",
    "\n",
    "\n",
    "    headers = {'User-Agent':'Mozilla/5.0 (Windows NT 10.0; Win64; x64) AppleWebKit/537.36 (KHTML, like Gecko) Chrome/117.0.0.0 Safari/537.36'}\n",
    "\n",
    "    url = f'https://finance.naver.com/item/board_read.naver?code={companynum}&nid=260982936&st=&sw=&page=1'\n",
    "    print(url)\n",
    "\n",
    "\n",
    "    num = 0\n",
    "    while nowdate>stopdate:\n",
    "        ss = requests.get(url, headers=headers)\n",
    "        source = ss.text\n",
    "\n",
    "        pos1 = source.find('<th class=\"gray03 p9 tah\" align=\"right\"') + len('<th class=\"gray03 p9 tah\" align=\"right\"')\n",
    "        source = source[pos1:]\n",
    "\n",
    "        pos1 = source.find('\">') + len('\">')\n",
    "        source = source[pos1:]\n",
    "\n",
    "        pos1 = source.find('</th>') - len('</th> ')\n",
    "        date = source[:pos1]\n",
    "\n",
    "        pos1 = source.find('class=\"view_se\"') + len('class=\"view_se\"')\n",
    "        source = source[pos1:]\n",
    "        pos1 = source.find(\"'>\") + len(\"'>\")\n",
    "        source = source[pos1:]\n",
    "\n",
    "        pos2 = source.find('</div>')\n",
    "        content = source[:pos2]\n",
    "        content = content.replace('<br>', ' ')\n",
    "        content=content.replace(\"\\r\",\" \")\n",
    "        content=content.replace(\",\",\" \")\n",
    "\n",
    "        pos1 = source.find('class=\"p11 gray03\">다음')\n",
    "        source = source[pos1:]\n",
    "\n",
    "        pos2 = source.find('<a href=\"') + len('<a href=\"')\n",
    "        source = source[pos2:]\n",
    "\n",
    "        pos3 = source.find('\"')\n",
    "        url = 'https://finance.naver.com/item/' + source[:pos3]\n",
    "\n",
    "        if num % 100 == 0:\n",
    "            f = open(f'C:\\김영욱\\stock/{company}{num}.csv', 'w')  \n",
    "        f.write(date+','+content)\n",
    "        f.write('\\n')\n",
    "        if num % 100 == 99:\n",
    "            f.close()\n",
    "        if num % 10 == 0:\n",
    "            print(company,num//10,'번째 출력')\n",
    "        if num % 100 ==99:             \n",
    "            nowdate=parse(date)\n",
    "            print()\n",
    "\n",
    "\n",
    "\n",
    "        num+=1"
   ]
  },
  {
   "cell_type": "code",
   "execution_count": null,
   "id": "e20cee72",
   "metadata": {},
   "outputs": [],
   "source": [
    "for i in range(1,3):\n",
    "    storkbattelCR('2020.12.31',Kospi_50.iloc[i,1],Kospi_50.iloc[i,0])"
   ]
  },
  {
   "cell_type": "code",
   "execution_count": null,
   "id": "263d6e8d",
   "metadata": {},
   "outputs": [],
   "source": []
  },
  {
   "cell_type": "code",
   "execution_count": null,
   "id": "2e55cd80",
   "metadata": {},
   "outputs": [],
   "source": []
  },
  {
   "cell_type": "code",
   "execution_count": null,
   "id": "02793f24",
   "metadata": {},
   "outputs": [],
   "source": []
  },
  {
   "cell_type": "code",
   "execution_count": null,
   "id": "d3bb01b6",
   "metadata": {},
   "outputs": [],
   "source": [
    "df = pd.read_csv('./SK하이닉스0.csv', encoding='euc-kr',names=['날짜','내용'])"
   ]
  },
  {
   "cell_type": "code",
   "execution_count": null,
   "id": "8378affd",
   "metadata": {},
   "outputs": [],
   "source": []
  },
  {
   "cell_type": "code",
   "execution_count": null,
   "id": "41d0a648",
   "metadata": {},
   "outputs": [],
   "source": []
  },
  {
   "cell_type": "code",
   "execution_count": null,
   "id": "803198f6",
   "metadata": {},
   "outputs": [],
   "source": []
  }
 ],
 "metadata": {
  "kernelspec": {
   "display_name": "Python 3 (ipykernel)",
   "language": "python",
   "name": "python3"
  },
  "language_info": {
   "codemirror_mode": {
    "name": "ipython",
    "version": 3
   },
   "file_extension": ".py",
   "mimetype": "text/x-python",
   "name": "python",
   "nbconvert_exporter": "python",
   "pygments_lexer": "ipython3",
   "version": "3.10.12"
  }
 },
 "nbformat": 4,
 "nbformat_minor": 5
}
